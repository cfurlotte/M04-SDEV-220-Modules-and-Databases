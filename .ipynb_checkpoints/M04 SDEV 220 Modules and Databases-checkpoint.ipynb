{
 "cells": [
  {
   "cell_type": "code",
   "execution_count": 9,
   "id": "14ef2a20",
   "metadata": {},
   "outputs": [],
   "source": [
    "#16,3\n",
    "info = \"\"\"title,author,year\n",
    "The Weirdstone of Brisingamen,Alan Garner,1960\n",
    "Perdido Street Station,China Miéville,2000\n",
    "Thud!,Terry Pratchett,2005\n",
    "The Spellman Files,Lisa Lutz,2007\n",
    "Small Gods,Terry Pratchett,1992\n",
    "\"\"\"\n",
    "with open('books.csv', 'w', encoding='utf-8-sig') as file:\n",
    "    file.write(info)"
   ]
  },
  {
   "cell_type": "code",
   "execution_count": 21,
   "id": "5fac4dd7",
   "metadata": {
    "scrolled": true
   },
   "outputs": [],
   "source": [
    "#16.4\n",
    "import sqlite3\n",
    "\n",
    "connection = sqlite3.connect('books.db');\n",
    "cursor = connection.cursor()\n",
    "\n",
    "cursor.execute('''\n",
    "    CREATE TABLE IF NOT EXISTS books (\n",
    "        title TEXT,\n",
    "        author TEXT,\n",
    "        year INTEGER\n",
    "    )\n",
    "''')\n",
    "connection.commit()\n",
    "connection.close()"
   ]
  },
  {
   "cell_type": "code",
   "execution_count": null,
   "id": "9f4a103c",
   "metadata": {},
   "outputs": [],
   "source": [
    "#15.5\n",
    "import csv\n",
    "with open('books2.csv', 'r', )"
   ]
  },
  {
   "cell_type": "code",
   "execution_count": 6,
   "id": "832cc3b9",
   "metadata": {},
   "outputs": [],
   "source": [
    "#16.6\n",
    "cursor.execute('SELECT title FROM books ORDER BY title')\n",
    "titles = cursor.fetchall()\n",
    "for title in titles:\n",
    "    print(title[0])\n",
    "    \n"
   ]
  },
  {
   "cell_type": "code",
   "execution_count": 7,
   "id": "0674614f",
   "metadata": {},
   "outputs": [],
   "source": [
    "#16.8\n",
    "import sqlalchemy as sa\n",
    "from sqlalchemy.ext.declarative import declarative_base\n",
    "from sqlalchemy.orm import sessionmaker\n",
    "Base = declarative_base()\n",
    "class Book(Base):\n",
    "    __tablename__ = 'books'\n",
    "    id = sa.Column(sa.Integer, primary_key=True)\n",
    "    title = sa.Column(sa.String)\n",
    "    author = sa.Column(sa.String)\n",
    "    year = sa.Column(sa.Integer)\n",
    "    "
   ]
  },
  {
   "cell_type": "code",
   "execution_count": null,
   "id": "9c2a8bbf",
   "metadata": {},
   "outputs": [],
   "source": []
  }
 ],
 "metadata": {
  "kernelspec": {
   "display_name": "Python 3 (ipykernel)",
   "language": "python",
   "name": "python3"
  },
  "language_info": {
   "codemirror_mode": {
    "name": "ipython",
    "version": 3
   },
   "file_extension": ".py",
   "mimetype": "text/x-python",
   "name": "python",
   "nbconvert_exporter": "python",
   "pygments_lexer": "ipython3",
   "version": "3.11.5"
  }
 },
 "nbformat": 4,
 "nbformat_minor": 5
}
